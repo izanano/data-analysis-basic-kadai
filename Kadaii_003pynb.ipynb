{
  "nbformat": 4,
  "nbformat_minor": 0,
  "metadata": {
    "colab": {
      "provenance": [],
      "authorship_tag": "ABX9TyN89UXTRcq9adMZWGwPVRAf"
    },
    "kernelspec": {
      "name": "python3",
      "display_name": "Python 3"
    },
    "language_info": {
      "name": "python"
    }
  },
  "cells": [
    {
      "cell_type": "code",
      "execution_count": 1,
      "metadata": {
        "id": "X5wni9gRehWv"
      },
      "outputs": [],
      "source": [
        "#step1 numpyをインストール\n",
        "import numpy as np"
      ]
    },
    {
      "cell_type": "code",
      "source": [
        "#step2　記述\n",
        "A = np.array([[0,1],[2,3],[4,5]])#3行2列の多次元配列\n",
        "B = np.array([[0,1,2,3],[4,5,6,7]])#2行3列の多次元配列"
      ],
      "metadata": {
        "id": "CsZUDiy-hgpp"
      },
      "execution_count": 65,
      "outputs": []
    },
    {
      "cell_type": "code",
      "source": [
        "print(A)"
      ],
      "metadata": {
        "colab": {
          "base_uri": "https://localhost:8080/"
        },
        "id": "vJIMn_rj_yIZ",
        "outputId": "9679d219-8b54-4fe3-fcf2-d5506369df2a"
      },
      "execution_count": 72,
      "outputs": [
        {
          "output_type": "stream",
          "name": "stdout",
          "text": [
            "[[0 1]\n",
            " [2 3]\n",
            " [4 5]]\n"
          ]
        }
      ]
    },
    {
      "cell_type": "code",
      "source": [
        "print(B)"
      ],
      "metadata": {
        "colab": {
          "base_uri": "https://localhost:8080/"
        },
        "id": "xLpZuQOi_630",
        "outputId": "c038aec8-7d0e-4ece-871c-52621eefe2c0"
      },
      "execution_count": 71,
      "outputs": [
        {
          "output_type": "stream",
          "name": "stdout",
          "text": [
            "[[0 1 2 3]\n",
            " [4 5 6 7]]\n"
          ]
        }
      ]
    },
    {
      "cell_type": "code",
      "source": [
        "#step3 演算\n",
        "C = np.dot(A,B)"
      ],
      "metadata": {
        "id": "idUqKKec6w71"
      },
      "execution_count": 66,
      "outputs": []
    },
    {
      "cell_type": "code",
      "source": [
        "#step4 結果\n",
        "print(C)"
      ],
      "metadata": {
        "colab": {
          "base_uri": "https://localhost:8080/"
        },
        "id": "7eTm6iyn_UA2",
        "outputId": "5b17f0b4-22aa-41d0-e017-16a452e55638"
      },
      "execution_count": 67,
      "outputs": [
        {
          "output_type": "stream",
          "name": "stdout",
          "text": [
            "[[ 4  5  6  7]\n",
            " [12 17 22 27]\n",
            " [20 29 38 47]]\n"
          ]
        }
      ]
    },
    {
      "cell_type": "code",
      "source": [
        "#step4 最大値をもとめる\n",
        "print(C.max())"
      ],
      "metadata": {
        "colab": {
          "base_uri": "https://localhost:8080/"
        },
        "id": "ef16DvUa8Xq5",
        "outputId": "b44bc75d-d5dc-4df6-ce54-662689dbaa41"
      },
      "execution_count": 69,
      "outputs": [
        {
          "output_type": "stream",
          "name": "stdout",
          "text": [
            "47\n"
          ]
        }
      ]
    },
    {
      "cell_type": "code",
      "source": [
        "print(f'これは{A}')\n",
        "print(f'これは{B}')\n",
        "print(f'これは{C}')"
      ],
      "metadata": {
        "colab": {
          "base_uri": "https://localhost:8080/"
        },
        "id": "WjKgOY70e92u",
        "outputId": "5595d59d-85e3-440f-e892-cf879b884fa1"
      },
      "execution_count": 50,
      "outputs": [
        {
          "output_type": "stream",
          "name": "stdout",
          "text": [
            "これは[[0 1 2]]\n",
            "これは[[2 3 4]\n",
            " [4 5 6]]\n",
            "これは[5 6 7]\n"
          ]
        }
      ]
    },
    {
      "cell_type": "code",
      "source": [
        "A = np.array([[0,1,2]])\n",
        "B = np.array([[2,3,4],[4,5,6]])\n",
        "C = np.array([5,6,7])"
      ],
      "metadata": {
        "id": "n-_ugipfeuHs"
      },
      "execution_count": 49,
      "outputs": []
    },
    {
      "cell_type": "code",
      "source": [
        "print(A.shape)\n",
        "print(B.shape)\n",
        "print(C.shape)\n",
        "print(A.ndim)\n",
        "print(B.ndim)\n",
        "print(C.ndim)"
      ],
      "metadata": {
        "colab": {
          "base_uri": "https://localhost:8080/"
        },
        "id": "xgUBWrnafHN-",
        "outputId": "fecd960b-632c-46a0-f34b-2ae65a63aebb"
      },
      "execution_count": 51,
      "outputs": [
        {
          "output_type": "stream",
          "name": "stdout",
          "text": [
            "(1, 3)\n",
            "(2, 3)\n",
            "(3,)\n",
            "2\n",
            "2\n",
            "1\n"
          ]
        }
      ]
    },
    {
      "cell_type": "code",
      "source": [
        "print(a)#確認\n",
        "print(b)"
      ],
      "metadata": {
        "colab": {
          "base_uri": "https://localhost:8080/"
        },
        "id": "Rk7D_J416CqP",
        "outputId": "70ed4604-fb33-4386-996d-0aaabffd3bd5"
      },
      "execution_count": 56,
      "outputs": [
        {
          "output_type": "stream",
          "name": "stdout",
          "text": [
            "[[0 1]\n",
            " [2 3]\n",
            " [4 5]]\n",
            "[[0 1 2 3]\n",
            " [4 5 6 7]]\n"
          ]
        }
      ]
    },
    {
      "cell_type": "code",
      "source": [
        "c = ([0,1],[2,3],[4,5])"
      ],
      "metadata": {
        "id": "qsNSyRoJ6G5-"
      },
      "execution_count": 58,
      "outputs": []
    },
    {
      "cell_type": "code",
      "source": [],
      "metadata": {
        "id": "AOfkeNkG9zSn"
      },
      "execution_count": null,
      "outputs": []
    }
  ]
}